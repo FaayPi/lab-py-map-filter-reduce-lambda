{
 "cells": [
  {
   "cell_type": "markdown",
   "metadata": {},
   "source": [
    "# LAB | Map, Reduce, Filter, and Lambda in Python"
   ]
  },
  {
   "cell_type": "markdown",
   "metadata": {},
   "source": [
    "## Overview\n",
    "This exercise notebook will help you practice using `map`, `reduce`, `filter`, and `lambda` functions in Python. These functional programming techniques allow for concise and efficient data manipulation.\n",
    "\n",
    "## Instructions\n",
    "- Complete each exercise by writing the appropriate code in the provided space.\n",
    "- Test your code to ensure it works as expected.\n",
    "- Feel free to use comments to explain your thought process."
   ]
  },
  {
   "cell_type": "markdown",
   "metadata": {},
   "source": [
    "### Exercise 1: Triple All Numbers\n",
    "Write a Python program that triples all numbers in a given list of integers using the `map` function.\n"
   ]
  },
  {
   "cell_type": "code",
   "execution_count": 3,
   "metadata": {},
   "outputs": [
    {
     "data": {
      "text/plain": [
       "[3, 6, 9, 12, 15]"
      ]
     },
     "execution_count": 3,
     "metadata": {},
     "output_type": "execute_result"
    }
   ],
   "source": [
    "# Sample input\n",
    "numbers = [1, 2, 3, 4, 5]\n",
    "\n",
    "# Your code here\n",
    "\n",
    "triples = list(map(lambda x: x * 3, numbers))\n",
    "\n",
    "triples\n"
   ]
  },
  {
   "cell_type": "markdown",
   "metadata": {},
   "source": [
    "### Exercise 2: Add Three Lists\n",
    "Write a Python program that adds three given lists element-wise using the `map` function and `lambda`."
   ]
  },
  {
   "cell_type": "code",
   "execution_count": 5,
   "metadata": {},
   "outputs": [
    {
     "data": {
      "text/plain": [
       "[12, 15, 18]"
      ]
     },
     "execution_count": 5,
     "metadata": {},
     "output_type": "execute_result"
    }
   ],
   "source": [
    "# Sample input\n",
    "list1 = [1, 2, 3]\n",
    "list2 = [4, 5, 6]\n",
    "list3 = [7, 8, 9]\n",
    "\n",
    "# Your code here\n",
    "\n",
    "list4 = list(map(lambda x, y, z: x + y + z, list1, list2, list3))\n",
    "\n",
    "list4"
   ]
  },
  {
   "cell_type": "markdown",
   "metadata": {},
   "source": [
    "### Exercise 3: Listify Strings\n",
    "Write a Python program that converts a list of strings into a list of lists containing individual characters using the `map` function."
   ]
  },
  {
   "cell_type": "code",
   "execution_count": 16,
   "metadata": {},
   "outputs": [
    {
     "data": {
      "text/plain": [
       "[['h', 'e', 'l', 'l', 'o'], ['w', 'o', 'r', 'l', 'd']]"
      ]
     },
     "execution_count": 16,
     "metadata": {},
     "output_type": "execute_result"
    }
   ],
   "source": [
    "# Sample input\n",
    "strings = [\"hello\", \"world\"]\n",
    "\n",
    "# Your code here\n",
    "\n",
    "strings1 = list(map(lambda x: list(x), strings))\n",
    "strings1"
   ]
  },
  {
   "cell_type": "markdown",
   "metadata": {},
   "source": [
    "### Exercise 4: Power of Numbers\n",
    "Write a Python program that creates a list containing the power of a number raised to the corresponding index in the list using the `map` function."
   ]
  },
  {
   "cell_type": "code",
   "execution_count": 19,
   "metadata": {},
   "outputs": [
    {
     "data": {
      "text/plain": [
       "[1, 2, 4, 8, 16]"
      ]
     },
     "execution_count": 19,
     "metadata": {},
     "output_type": "execute_result"
    }
   ],
   "source": [
    "# Sample input\n",
    "base_number = 2\n",
    "exponents = [0, 1, 2, 3, 4]\n",
    "\n",
    "# Your code here\n",
    "\n",
    "power = list(map(lambda x: base_number ** x, exponents))\n",
    "power"
   ]
  },
  {
   "cell_type": "markdown",
   "metadata": {},
   "source": [
    "### Exercise 5: Square Elements of a List\n",
    "Write a Python program that squares the elements of a given list using the `map` function."
   ]
  },
  {
   "cell_type": "code",
   "execution_count": 20,
   "metadata": {},
   "outputs": [
    {
     "data": {
      "text/plain": [
       "[1, 4, 9, 16]"
      ]
     },
     "execution_count": 20,
     "metadata": {},
     "output_type": "execute_result"
    }
   ],
   "source": [
    "# Sample input\n",
    "numbers = [1, 2, 3, 4]\n",
    "\n",
    "squares = list(map(lambda x: x * x, numbers))\n",
    "squares\n"
   ]
  },
  {
   "cell_type": "markdown",
   "metadata": {},
   "source": [
    "### Exercise 6: Filter Even Numbers\n",
    "Write a Python program that filters out even numbers from a list using the `filter` function and `lambda`.\n"
   ]
  },
  {
   "cell_type": "code",
   "execution_count": 22,
   "metadata": {},
   "outputs": [
    {
     "data": {
      "text/plain": [
       "[2, 4, 6]"
      ]
     },
     "execution_count": 22,
     "metadata": {},
     "output_type": "execute_result"
    }
   ],
   "source": [
    "# Sample input\n",
    "numbers = [1, 2, 3, 4, 5, 6]\n",
    "\n",
    "# Your code here\n",
    "\n",
    "even = list(filter(lambda x: x %2 == 0, numbers))\n",
    "even"
   ]
  },
  {
   "cell_type": "markdown",
   "metadata": {},
   "source": [
    "### Exercise 7: Uppercase Conversion with Map\n",
    "Write a Python program that converts all characters in a given list of strings to uppercase using the `map` function."
   ]
  },
  {
   "cell_type": "code",
   "execution_count": 24,
   "metadata": {},
   "outputs": [
    {
     "data": {
      "text/plain": [
       "['HELLO', 'WORLD']"
      ]
     },
     "execution_count": 24,
     "metadata": {},
     "output_type": "execute_result"
    }
   ],
   "source": [
    "# Sample input\n",
    "words = [\"hello\", \"world\"]\n",
    "\n",
    "# Your code here\n",
    "upper = list(map(lambda x: x.upper(), words))\n",
    "upper"
   ]
  },
  {
   "cell_type": "markdown",
   "metadata": {},
   "source": [
    "### Exercise 8: Count Positive and Negative Numbers with Filter\n",
    "Write a Python program that counts how many positive and negative numbers are in a given list using the `filter` function."
   ]
  },
  {
   "cell_type": "code",
   "execution_count": 36,
   "metadata": {},
   "outputs": [
    {
     "name": "stdout",
     "output_type": "stream",
     "text": [
      "count of positive numbers: 3\n",
      "count of negative numbers: 3\n"
     ]
    }
   ],
   "source": [
    "# Sample input\n",
    "numbers = [-1, -2, -3, 1, 2, 3]\n",
    "\n",
    "# Your code here\n",
    "\n",
    "positive = list(filter(lambda x: x > 0, numbers))\n",
    "negative = list(filter(lambda x: x < 0, numbers))\n",
    "\n",
    "count_positive = len(positive)\n",
    "count_negative = len(negative)\n",
    "\n",
    "print(f\"count of positive numbers: {count_positive}\")\n",
    "print(f\"count of negative numbers: {count_negative}\")\n"
   ]
  },
  {
   "cell_type": "markdown",
   "metadata": {},
   "source": [
    "### Exercise 9: Sum of Squares with Reduce\n",
    "Using the `reduce` function from the `functools` module, compute the sum of squares of all numbers in a given list.\n"
   ]
  },
  {
   "cell_type": "code",
   "execution_count": 57,
   "metadata": {},
   "outputs": [
    {
     "data": {
      "text/plain": [
       "14"
      ]
     },
     "execution_count": 57,
     "metadata": {},
     "output_type": "execute_result"
    }
   ],
   "source": [
    "from functools import reduce\n",
    "\n",
    "# Sample input\n",
    "numbers = [1, 2, 3]\n",
    "\n",
    "# Your code here\n",
    "\n",
    "squares = list(map(lambda x: x ** 2, numbers))\n",
    "\n",
    "def sumarize(x,y):\n",
    "    return x + y\n",
    "\n",
    "sum_squares = reduce(sumarize, squares)\n",
    "sum_squares\n",
    "\n"
   ]
  },
  {
   "cell_type": "markdown",
   "metadata": {},
   "source": [
    "### Exercise 10: Lambda Function for Addition\n",
    "Create a lambda function that adds two numbers and test it with sample inputs."
   ]
  },
  {
   "cell_type": "code",
   "execution_count": 58,
   "metadata": {},
   "outputs": [
    {
     "name": "stdout",
     "output_type": "stream",
     "text": [
      "15\n"
     ]
    }
   ],
   "source": [
    "# Your code here\n",
    "add = lambda x, y: x + y\n",
    "\n",
    "# Test the lambda function with sample inputs\n",
    "result = add(10, 5)\n",
    "\n",
    "print(result) # Expected output:"
   ]
  },
  {
   "cell_type": "markdown",
   "metadata": {},
   "source": [
    "### Exercise 11: Filter Strings with Specific Lengths \n",
    "Write a Python program that filters strings from a list based on their length using the `filter` function."
   ]
  },
  {
   "cell_type": "code",
   "execution_count": 60,
   "metadata": {},
   "outputs": [
    {
     "data": {
      "text/plain": [
       "['banana', 'cherry']"
      ]
     },
     "execution_count": 60,
     "metadata": {},
     "output_type": "execute_result"
    }
   ],
   "source": [
    "# Sample input\n",
    "words = [\"apple\", \"banana\", \"cherry\", \"date\"]\n",
    "\n",
    "# Your code here\n",
    "\n",
    "filtered_words = list(filter(lambda x: len(x) > 5, words))\n",
    "filtered_words"
   ]
  },
  {
   "cell_type": "markdown",
   "metadata": {},
   "source": [
    "### Exercise 12: Sort List of Tuples by Second Element \n",
    "Write a Python program that sorts a list of tuples based on the second element using the `sorted()` function and `lambda`."
   ]
  },
  {
   "cell_type": "code",
   "execution_count": 65,
   "metadata": {},
   "outputs": [
    {
     "data": {
      "text/plain": [
       "[('b', 1), ('a', 2), ('c', 3)]"
      ]
     },
     "execution_count": 65,
     "metadata": {},
     "output_type": "execute_result"
    }
   ],
   "source": [
    "# Sample input\n",
    "tuples_list = [('a', 2), ('b', 1), ('c', 3)]\n",
    "\n",
    "# Your code here\n",
    "\n",
    "sorted_list = sorted(tuples_list, key=lambda x: x[1])\n",
    "sorted_list\n"
   ]
  },
  {
   "cell_type": "markdown",
   "metadata": {},
   "source": [
    "### Exercise 13: Create Fibonacci Series Using Lambda \n",
    "Write a Python program to create Fibonacci series up to n using lambda functions."
   ]
  },
  {
   "cell_type": "code",
   "execution_count": 89,
   "metadata": {},
   "outputs": [
    {
     "ename": "SyntaxError",
     "evalue": "invalid syntax (1646228271.py, line 1)",
     "output_type": "error",
     "traceback": [
      "\u001b[1;36m  Cell \u001b[1;32mIn[89], line 1\u001b[1;36m\u001b[0m\n\u001b[1;33m    imp functools\u001b[0m\n\u001b[1;37m        ^\u001b[0m\n\u001b[1;31mSyntaxError\u001b[0m\u001b[1;31m:\u001b[0m invalid syntax\n"
     ]
    }
   ],
   "source": [
    "\n",
    "n = int(input(\"Enter n: \")) # e.g., n=5\n",
    "\n",
    "# Your code here\n",
    "fibonacci_series = lambda n: functools.reduce(lambda x: x+[x[-1]+x[-2]], range(n-2), [0,1]) if n>0 else []\n",
    "print(fibonacci_series(n))"
   ]
  },
  {
   "cell_type": "markdown",
   "metadata": {},
   "source": [
    "### Exercise 14: Find Palindromes Using Filter \n",
    "Write a Python program that finds palindromes in a given list of strings using filter and lambda."
   ]
  },
  {
   "cell_type": "code",
   "execution_count": 90,
   "metadata": {},
   "outputs": [
    {
     "data": {
      "text/plain": [
       "['php', 'aaa']"
      ]
     },
     "execution_count": 90,
     "metadata": {},
     "output_type": "execute_result"
    }
   ],
   "source": [
    "strings = ['php', 'w3r', 'Python', 'abcd', 'Java', 'aaa']\n",
    "\n",
    "# Your code here\n",
    "\n",
    "palindromes = list(filter(lambda x: x == x[::-1], strings))\n",
    "palindromes"
   ]
  },
  {
   "cell_type": "markdown",
   "metadata": {},
   "source": [
    "### Exercise 15: Extract Digits from String Using Lambda \n",
    "Write a Python program to extract digits from a given string and store them in a list using lambda."
   ]
  },
  {
   "cell_type": "code",
   "execution_count": 94,
   "metadata": {},
   "outputs": [
    {
     "data": {
      "text/plain": [
       "['2', '3', '8', '5', '8', '5', '6']"
      ]
     },
     "execution_count": 94,
     "metadata": {},
     "output_type": "execute_result"
    }
   ],
   "source": [
    "input_string = \"sdf23sa8fs5sdfsd8sdfs56\"\n",
    "\n",
    "# Your code here\n",
    "\n",
    "digits = [\"1\", \"2\", \"3\", \"4\", \"5\", \"6\", \"7\", \"8\", \"9\"]\n",
    "\n",
    "extracted_digits = list(filter(lambda x: x in digits, input_string))\n",
    "extracted_digits"
   ]
  },
  {
   "cell_type": "markdown",
   "metadata": {},
   "source": [
    "### Exercise 16: Count Vowels Using Lambda \n",
    "Write a Python program to count vowels in each word of a given list using map and lambda."
   ]
  },
  {
   "cell_type": "code",
   "execution_count": 117,
   "metadata": {},
   "outputs": [
    {
     "data": {
      "text/plain": [
       "[2, 3, 1]"
      ]
     },
     "execution_count": 117,
     "metadata": {},
     "output_type": "execute_result"
    }
   ],
   "source": [
    "words = ['apple', 'banana', 'cherry']\n",
    "\n",
    "\n",
    "list(map(lambda x: sum(1 for letter in x.lower() if letter in \"aeiou\"), words))\n"
   ]
  },
  {
   "cell_type": "markdown",
   "metadata": {},
   "source": [
    "### Exercise 17: Remove Duplicates Using Lambda \n",
    "Write a Python program that removes duplicates from a list while preserving order using lambda functions."
   ]
  },
  {
   "cell_type": "code",
   "execution_count": 167,
   "metadata": {},
   "outputs": [
    {
     "name": "stdout",
     "output_type": "stream",
     "text": [
      "[1, 2, 3]\n"
     ]
    }
   ],
   "source": [
    "numbers = [1, 2, 3, 1, 2]\n",
    "\n",
    "# Your code here\n",
    "seen = set()\n",
    "result = list(filter(lambda x: x not in seen and not seen.add(x), numbers))\n",
    "print(result)\n",
    "\n",
    "\n",
    "\n"
   ]
  },
  {
   "cell_type": "markdown",
   "metadata": {},
   "source": [
    "### Exercise 18: Find Maximum Value Using Reduce \n",
    "Use the reduce function to find the maximum value in a list of integers."
   ]
  },
  {
   "cell_type": "code",
   "execution_count": 150,
   "metadata": {},
   "outputs": [
    {
     "name": "stdout",
     "output_type": "stream",
     "text": [
      "1\n"
     ]
    }
   ],
   "source": [
    "numbers = [1, -5, -10, -20]\n",
    "\n",
    "# Your code here\n",
    "\n",
    "max_value = reduce(lambda x, y: x if x > y else y, numbers)\n",
    "print(max_value)"
   ]
  },
  {
   "cell_type": "markdown",
   "metadata": {},
   "source": [
    "### Exercise 19: Filter Out Non-Numeric Values Using Lambda \n",
    "Write a Python program that filters out non-numeric values from an array using lambda functions."
   ]
  },
  {
   "cell_type": "code",
   "execution_count": 145,
   "metadata": {},
   "outputs": [
    {
     "data": {
      "text/plain": [
       "[1, True]"
      ]
     },
     "execution_count": 145,
     "metadata": {},
     "output_type": "execute_result"
    }
   ],
   "source": [
    "mixed_list = [1, 'two', True, None, -5.0]\n",
    "\n",
    "# Your code here\n",
    "\n",
    "numeric = list(range(10))\n",
    "\n",
    "\n",
    "list(filter(lambda x: x in numeric, mixed_list))"
   ]
  },
  {
   "cell_type": "markdown",
   "metadata": {},
   "source": [
    "### Exercise 20: Calculate Lengths of Strings Using Map \n",
    "Create a program that calculates the lengths of each string in a given list using map and lambda."
   ]
  },
  {
   "cell_type": "code",
   "execution_count": 123,
   "metadata": {},
   "outputs": [
    {
     "data": {
      "text/plain": [
       "[5, 6, 6]"
      ]
     },
     "execution_count": 123,
     "metadata": {},
     "output_type": "execute_result"
    }
   ],
   "source": [
    "strings = ['apple', 'banana', 'cherry']\n",
    "\n",
    "# Your code here\n",
    "\n",
    "list(map(lambda x: len(x), strings))"
   ]
  },
  {
   "cell_type": "markdown",
   "metadata": {},
   "source": [
    "### Exercise 21: Find Common Elements Between Two Lists Using Filter  \n",
    "Write a Python program to find common elements between two lists using filter and lambda."
   ]
  },
  {
   "cell_type": "code",
   "execution_count": 120,
   "metadata": {},
   "outputs": [
    {
     "data": {
      "text/plain": [
       "[2, 3]"
      ]
     },
     "execution_count": 120,
     "metadata": {},
     "output_type": "execute_result"
    }
   ],
   "source": [
    "list1 = [1,2,3]\n",
    "list2 = [2,3,4]\n",
    "\n",
    "# Your code here\n",
    "\n",
    "list(filter(lambda x: x in list2, list1))"
   ]
  },
  {
   "cell_type": "markdown",
   "metadata": {},
   "source": [
    "### Exercise 22: Convert Celsius to Fahrenheit Using Map  \n",
    "Create a program that converts temperatures from Celsius to Fahrenheit using map and lambda functions."
   ]
  },
  {
   "cell_type": "code",
   "execution_count": 168,
   "metadata": {},
   "outputs": [
    {
     "data": {
      "text/plain": [
       "[32.0, 14.0, -40.0]"
      ]
     },
     "execution_count": 168,
     "metadata": {},
     "output_type": "execute_result"
    }
   ],
   "source": [
    "celsius_temps = [0, -10, -40]\n",
    "\n",
    "list(map(lambda x: x *(9/5) + 32, celsius_temps))\n",
    "\n",
    "# Your code here"
   ]
  },
  {
   "cell_type": "markdown",
   "metadata": {},
   "source": [
    "### Exercise 23: Check for Prime Numbers Using Filter  \n",
    "Write a Python program that filters out prime numbers from an array of integers using filter and lambda functions."
   ]
  },
  {
   "cell_type": "code",
   "execution_count": 122,
   "metadata": {},
   "outputs": [
    {
     "data": {
      "text/plain": [
       "[15, 23]"
      ]
     },
     "execution_count": 122,
     "metadata": {},
     "output_type": "execute_result"
    }
   ],
   "source": [
    "numbers = [10, 15, 23]\n",
    "\n",
    "# Your code here\n",
    "\n",
    "list(filter(lambda x: x % 2 != 0, numbers))"
   ]
  },
  {
   "cell_type": "markdown",
   "metadata": {},
   "source": [
    "### Exercise 24: Grouping by Length Using Lambda  \n",
    "Group words by their lengths from an array into separate lists using lambda functions."
   ]
  },
  {
   "cell_type": "code",
   "execution_count": 119,
   "metadata": {},
   "outputs": [
    {
     "data": {
      "text/plain": [
       "[['pear', 'kiwi'], ['apple'], ['banana']]"
      ]
     },
     "execution_count": 119,
     "metadata": {},
     "output_type": "execute_result"
    }
   ],
   "source": [
    "words = ['apple', 'banana', 'pear', 'kiwi']\n",
    "\n",
    "# Your code here\n",
    "\n",
    "[list(filter(lambda x: len(x) == m, words)) for m in set(map(len, words))]"
   ]
  },
  {
   "cell_type": "markdown",
   "metadata": {},
   "source": [
    "### Exercise Completion  \n",
    "Once you have completed all exercises:\n",
    "- Review your solutions.\n",
    "- Ensure your code is well-documented with comments explaining your logic.\n",
    "- Save your notebook for submission or further review.\n",
    "\n",
    "Happy coding! Enjoy exploring functional programming with Python!"
   ]
  }
 ],
 "metadata": {
  "kernelspec": {
   "display_name": ".venv",
   "language": "python",
   "name": "python3"
  },
  "language_info": {
   "codemirror_mode": {
    "name": "ipython",
    "version": 3
   },
   "file_extension": ".py",
   "mimetype": "text/x-python",
   "name": "python",
   "nbconvert_exporter": "python",
   "pygments_lexer": "ipython3",
   "version": "3.13.1"
  }
 },
 "nbformat": 4,
 "nbformat_minor": 2
}
